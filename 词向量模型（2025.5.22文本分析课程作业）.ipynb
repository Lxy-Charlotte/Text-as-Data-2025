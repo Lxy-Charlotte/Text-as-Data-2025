{
 "cells": [
  {
   "cell_type": "markdown",
   "id": "bc178c53-371f-4db0-a51a-4b46bb75d1c6",
   "metadata": {},
   "source": [
    "导入数据（数据准备）"
   ]
  },
  {
   "cell_type": "code",
   "execution_count": 8,
   "id": "dcca491c-e4d4-44fa-b8c9-89a841768034",
   "metadata": {},
   "outputs": [],
   "source": [
    "import pandas as pd #数据表"
   ]
  },
  {
   "cell_type": "code",
   "execution_count": 10,
   "id": "9e192e4b-aee5-4e0b-9d45-c33eb52f0b39",
   "metadata": {},
   "outputs": [],
   "source": [
    "# 从Excel文件中读取数据并创建DataFrame，将第一列(index=0)作为行索引\n",
    "df=pd.read_excel('text_analysis_ad_sample.xlsx',index_col=0)"
   ]
  },
  {
   "cell_type": "code",
   "execution_count": 11,
   "id": "34c5d350-a1ae-4513-87f5-0a36dc7d4591",
   "metadata": {},
   "outputs": [
    {
     "data": {
      "text/html": [
       "<div>\n",
       "<style scoped>\n",
       "    .dataframe tbody tr th:only-of-type {\n",
       "        vertical-align: middle;\n",
       "    }\n",
       "\n",
       "    .dataframe tbody tr th {\n",
       "        vertical-align: top;\n",
       "    }\n",
       "\n",
       "    .dataframe thead th {\n",
       "        text-align: right;\n",
       "    }\n",
       "</style>\n",
       "<table border=\"1\" class=\"dataframe\">\n",
       "  <thead>\n",
       "    <tr style=\"text-align: right;\">\n",
       "      <th></th>\n",
       "      <th>index</th>\n",
       "      <th>商品名称</th>\n",
       "      <th>商品类别</th>\n",
       "      <th>出版年</th>\n",
       "      <th>广告文本</th>\n",
       "      <th>广告标题</th>\n",
       "    </tr>\n",
       "  </thead>\n",
       "  <tbody>\n",
       "    <tr>\n",
       "      <th>0</th>\n",
       "      <td>1596</td>\n",
       "      <td>五华牌香烟[May Blossom]</td>\n",
       "      <td>烟草制品</td>\n",
       "      <td>1932</td>\n",
       "      <td>兰勃脱白脱勒公司 五华牌香烟 佛及尼埃香烟  二十枝装每包售国币大洋二角 五十枝装每罐售国币...</td>\n",
       "      <td>五华牌香烟,\"兰勃脱白脱勒公司 五华牌香烟 佛及尼埃香烟\"</td>\n",
       "    </tr>\n",
       "    <tr>\n",
       "      <th>1</th>\n",
       "      <td>5627</td>\n",
       "      <td>韦廉士红色清导丸[Dr.Willams' Pink Pills For Pale People]</td>\n",
       "      <td>药品</td>\n",
       "      <td>1918</td>\n",
       "      <td>讲求卫生为人生本性天理固然也 人生首贵逐日大便通畅有序为天然所当如此也如若大便不利大肠阻塞则...</td>\n",
       "      <td>韦廉士红色清导丸:'讲求卫生为人生本性天理固然也'</td>\n",
       "    </tr>\n",
       "    <tr>\n",
       "      <th>2</th>\n",
       "      <td>13532</td>\n",
       "      <td>大炮台香烟[Three Castles Cigarettes]</td>\n",
       "      <td>烟草制品</td>\n",
       "      <td>1935</td>\n",
       "      <td>香味馥郁,不让名花 另有三炮台出售</td>\n",
       "      <td>大炮台香烟,\"香味馥郁 不让名花\"</td>\n",
       "    </tr>\n",
       "    <tr>\n",
       "      <th>3</th>\n",
       "      <td>1133</td>\n",
       "      <td>婴孩自己药片[Baby's Own]</td>\n",
       "      <td>药品</td>\n",
       "      <td>1930</td>\n",
       "      <td>差肩儿女 秀慧康强 闽有佳音讃羡婴孩自己药片 每年此际小儿患肠胃病者甚多而尤以南方各地天气翳...</td>\n",
       "      <td>婴孩自己药片,\"差肩儿女 秀慧康强 闽有佳音赞美婴孩自己药片\"</td>\n",
       "    </tr>\n",
       "    <tr>\n",
       "      <th>4</th>\n",
       "      <td>3146</td>\n",
       "      <td>亚士北罗药片[Aspro]</td>\n",
       "      <td>药品</td>\n",
       "      <td>1933</td>\n",
       "      <td>何以亚士北罗是妇女们的腻友？各国妇女力证亚士北罗药片是她们最需要的药物！为什么？她们的经验知...</td>\n",
       "      <td>亚士北罗药片,\"妇女之腻友\"</td>\n",
       "    </tr>\n",
       "    <tr>\n",
       "      <th>...</th>\n",
       "      <td>...</td>\n",
       "      <td>...</td>\n",
       "      <td>...</td>\n",
       "      <td>...</td>\n",
       "      <td>...</td>\n",
       "      <td>...</td>\n",
       "    </tr>\n",
       "    <tr>\n",
       "      <th>495</th>\n",
       "      <td>14176</td>\n",
       "      <td>安住蚊烟香</td>\n",
       "      <td>化肥及杀虫剂</td>\n",
       "      <td>1935</td>\n",
       "      <td>安住蚊烟香 臭虫立毙药粉 世界第一名产 安住蚊烟香 蚊见逃慌慌 暑夜不用帐 包睡到天光 汉口...</td>\n",
       "      <td>安住蚊烟香,\"世界第一名产\"</td>\n",
       "    </tr>\n",
       "    <tr>\n",
       "      <th>496</th>\n",
       "      <td>11610</td>\n",
       "      <td>第威德润肠丸[DeWitt's]</td>\n",
       "      <td>药品</td>\n",
       "      <td>1934</td>\n",
       "      <td>眉色清秀 气色壮旺 此第威德润肠丸之功也 第威德润肠丸系以草药炼制纯粹和平十分安全功能清理肠...</td>\n",
       "      <td>第威德润肠丸,\"眉色清秀 气色壮旺\"</td>\n",
       "    </tr>\n",
       "    <tr>\n",
       "      <th>497</th>\n",
       "      <td>10256</td>\n",
       "      <td>如意膏[She-Ko]</td>\n",
       "      <td>药品</td>\n",
       "      <td>1934</td>\n",
       "      <td>汤火烫伤 立攃如意膏可免严重之后果 皮肤受伤当以灼烫最痛苦其又因此震激而致命者治疗灼烫止痛消...</td>\n",
       "      <td>如意膏,\"汤火烫伤 立攃如意膏可免严重之后果\"</td>\n",
       "    </tr>\n",
       "    <tr>\n",
       "      <th>498</th>\n",
       "      <td>9176</td>\n",
       "      <td>六零六药膏</td>\n",
       "      <td>药品</td>\n",
       "      <td>1923</td>\n",
       "      <td>清血解毒六零六 花柳梅毒瘰*疮疖癣疥**及筋骨酸痛四肢麻木半身疯*等症状虽异其发生之原理莫不...</td>\n",
       "      <td>六零六,\"清血解毒六零六\"</td>\n",
       "    </tr>\n",
       "    <tr>\n",
       "      <th>499</th>\n",
       "      <td>6411</td>\n",
       "      <td>三炮台烟[The Three Caftles Cigarettes]</td>\n",
       "      <td>烟草制品</td>\n",
       "      <td>1919</td>\n",
       "      <td>三炮台香烟,'到底是好 三炮台 好香烟 敬宾客 美观瞻 市中日日新牌见 到底不如老牌烟 名不虚传</td>\n",
       "      <td>三炮台香烟,\"到底是好 三炮台 名不虚传\"</td>\n",
       "    </tr>\n",
       "  </tbody>\n",
       "</table>\n",
       "<p>500 rows × 6 columns</p>\n",
       "</div>"
      ],
      "text/plain": [
       "     index                                              商品名称    商品类别   出版年  \\\n",
       "0     1596                                五华牌香烟[May Blossom]    烟草制品  1932   \n",
       "1     5627  韦廉士红色清导丸[Dr.Willams' Pink Pills For Pale People]      药品  1918   \n",
       "2    13532                   大炮台香烟[Three Castles Cigarettes]    烟草制品  1935   \n",
       "3     1133                                婴孩自己药片[Baby's Own]      药品  1930   \n",
       "4     3146                                     亚士北罗药片[Aspro]      药品  1933   \n",
       "..     ...                                               ...     ...   ...   \n",
       "495  14176                                             安住蚊烟香  化肥及杀虫剂  1935   \n",
       "496  11610                                  第威德润肠丸[DeWitt's]      药品  1934   \n",
       "497  10256                                       如意膏[She-Ko]      药品  1934   \n",
       "498   9176                                             六零六药膏      药品  1923   \n",
       "499   6411                三炮台烟[The Three Caftles Cigarettes]    烟草制品  1919   \n",
       "\n",
       "                                                  广告文本  \\\n",
       "0    兰勃脱白脱勒公司 五华牌香烟 佛及尼埃香烟  二十枝装每包售国币大洋二角 五十枝装每罐售国币...   \n",
       "1    讲求卫生为人生本性天理固然也 人生首贵逐日大便通畅有序为天然所当如此也如若大便不利大肠阻塞则...   \n",
       "2                                    香味馥郁,不让名花 另有三炮台出售   \n",
       "3    差肩儿女 秀慧康强 闽有佳音讃羡婴孩自己药片 每年此际小儿患肠胃病者甚多而尤以南方各地天气翳...   \n",
       "4    何以亚士北罗是妇女们的腻友？各国妇女力证亚士北罗药片是她们最需要的药物！为什么？她们的经验知...   \n",
       "..                                                 ...   \n",
       "495  安住蚊烟香 臭虫立毙药粉 世界第一名产 安住蚊烟香 蚊见逃慌慌 暑夜不用帐 包睡到天光 汉口...   \n",
       "496  眉色清秀 气色壮旺 此第威德润肠丸之功也 第威德润肠丸系以草药炼制纯粹和平十分安全功能清理肠...   \n",
       "497  汤火烫伤 立攃如意膏可免严重之后果 皮肤受伤当以灼烫最痛苦其又因此震激而致命者治疗灼烫止痛消...   \n",
       "498  清血解毒六零六 花柳梅毒瘰*疮疖癣疥**及筋骨酸痛四肢麻木半身疯*等症状虽异其发生之原理莫不...   \n",
       "499   三炮台香烟,'到底是好 三炮台 好香烟 敬宾客 美观瞻 市中日日新牌见 到底不如老牌烟 名不虚传   \n",
       "\n",
       "                                广告标题  \n",
       "0      五华牌香烟,\"兰勃脱白脱勒公司 五华牌香烟 佛及尼埃香烟\"  \n",
       "1          韦廉士红色清导丸:'讲求卫生为人生本性天理固然也'  \n",
       "2                  大炮台香烟,\"香味馥郁 不让名花\"  \n",
       "3    婴孩自己药片,\"差肩儿女 秀慧康强 闽有佳音赞美婴孩自己药片\"  \n",
       "4                     亚士北罗药片,\"妇女之腻友\"  \n",
       "..                               ...  \n",
       "495                   安住蚊烟香,\"世界第一名产\"  \n",
       "496               第威德润肠丸,\"眉色清秀 气色壮旺\"  \n",
       "497          如意膏,\"汤火烫伤 立攃如意膏可免严重之后果\"  \n",
       "498                    六零六,\"清血解毒六零六\"  \n",
       "499            三炮台香烟,\"到底是好 三炮台 名不虚传\"  \n",
       "\n",
       "[500 rows x 6 columns]"
      ]
     },
     "execution_count": 11,
     "metadata": {},
     "output_type": "execute_result"
    }
   ],
   "source": [
    "df"
   ]
  },
  {
   "cell_type": "markdown",
   "id": "8c901dce-16d6-405e-be22-210b09abb32a",
   "metadata": {},
   "source": [
    "分词"
   ]
  },
  {
   "cell_type": "code",
   "execution_count": 13,
   "id": "7b1c8960-af51-461b-a5af-d3e39701def0",
   "metadata": {},
   "outputs": [],
   "source": [
    "import jieba #中文分词"
   ]
  },
  {
   "cell_type": "code",
   "execution_count": 17,
   "id": "fb4044ad-a01c-40a3-a7d9-dba499aa9f13",
   "metadata": {},
   "outputs": [],
   "source": [
    "# 从DataFrame中提取第一行(index=0)的\"广告文本\"列数据，并赋值给变量test\n",
    "test=df['广告文本'][0]"
   ]
  },
  {
   "cell_type": "code",
   "execution_count": 19,
   "id": "e8b609f1-e5b6-4e78-881b-5fb773c4f8b1",
   "metadata": {},
   "outputs": [],
   "source": [
    "def clean_text(text):\n",
    "    \"\"\"\n",
    "    使用jieba库对输入的中文文本进行分词处理，并返回以空格分隔的分词结果。\n",
    "    \n",
    "    参数:\n",
    "        text (str): 需要进行分词的中文文本\n",
    "    \n",
    "    返回:\n",
    "        str: 分词后以空格连接的字符串\n",
    "    \"\"\"\n",
    "    # 使用jieba.lcut()方法对输入文本进行分词，返回分词列表\n",
    "    words=jieba.lcut(text)\n",
    "    # 将分词列表中的词语用空格连接成一个字符串并返回\n",
    "    return ' '.join(words)"
   ]
  },
  {
   "cell_type": "code",
   "execution_count": 21,
   "id": "421bf33f-f624-4901-9ade-6bc64d7774ce",
   "metadata": {},
   "outputs": [
    {
     "name": "stderr",
     "output_type": "stream",
     "text": [
      "Building prefix dict from the default dictionary ...\n",
      "Loading model from cache /var/folders/fk/9jmgcs5n4yl9cmhv3wdqb3_m0000gn/T/jieba.cache\n",
      "Loading model cost 0.782 seconds.\n",
      "Prefix dict has been built successfully.\n"
     ]
    },
    {
     "data": {
      "text/plain": [
       "'兰勃 脱白 脱勒 公司   五华 牌 香烟   佛及 尼埃 香烟     二十 枝装 每包 售 国币 大洋 二角   五十 枝装 每罐 售 国币 大洋   五角'"
      ]
     },
     "execution_count": 21,
     "metadata": {},
     "output_type": "execute_result"
    }
   ],
   "source": [
    "# 调用clean_text函数对变量test中的中文文本进行分词处理，将文本切割为单个词语并用空格连接\n",
    "clean_text(test)"
   ]
  },
  {
   "cell_type": "code",
   "execution_count": 23,
   "id": "f6c55a99-a0b5-494e-b5a6-31edebaa6878",
   "metadata": {},
   "outputs": [],
   "source": [
    "# 对DataFrame中\"广告文本\"列的每个元素应用clean_text函数进行分词处理，\n",
    "# 并将结果存储在新创建的\"广告文本分词\"列中\n",
    "df['广告文本分词']=df['广告文本'].apply(clean_text)"
   ]
  },
  {
   "cell_type": "markdown",
   "id": "3e2fd319-7642-4fd7-a8a0-9743607da791",
   "metadata": {},
   "source": [
    "词向量模型"
   ]
  },
  {
   "cell_type": "code",
   "execution_count": 26,
   "id": "38527f42-6b3c-4c14-8b78-14355049925d",
   "metadata": {},
   "outputs": [],
   "source": [
    "# 从gensim库的测试工具模块中导入common_texts示例数据集\n",
    "# 该数据集包含一组预分词的短文本列表，常用于快速演示和测试NLP模型\n",
    "from gensim.test.utils import common_texts"
   ]
  },
  {
   "cell_type": "code",
   "execution_count": 28,
   "id": "923acc48-43d7-4c05-b7a6-36ade9d0fe91",
   "metadata": {},
   "outputs": [
    {
     "data": {
      "text/plain": [
       "[['human', 'interface', 'computer'],\n",
       " ['survey', 'user', 'computer', 'system', 'response', 'time'],\n",
       " ['eps', 'user', 'interface', 'system'],\n",
       " ['system', 'human', 'system', 'eps'],\n",
       " ['user', 'response', 'time'],\n",
       " ['trees'],\n",
       " ['graph', 'trees'],\n",
       " ['graph', 'minors', 'trees'],\n",
       " ['graph', 'minors', 'survey']]"
      ]
     },
     "execution_count": 28,
     "metadata": {},
     "output_type": "execute_result"
    }
   ],
   "source": [
    "common_texts"
   ]
  },
  {
   "cell_type": "code",
   "execution_count": 30,
   "id": "c992a2dd-aaad-4a38-afea-a00cb7426442",
   "metadata": {},
   "outputs": [],
   "source": [
    "sentences=df['广告文本分词'].apply(lambda x:x.split()).tolist()#切分语词"
   ]
  },
  {
   "cell_type": "code",
   "execution_count": 32,
   "id": "e2951b38-7ec8-492b-a260-46be7ff55182",
   "metadata": {},
   "outputs": [
    {
     "name": "stdout",
     "output_type": "stream",
     "text": [
      "['兰勃', '脱白', '脱勒', '公司', '五华', '牌', '香烟', '佛及', '尼埃', '香烟', '二十', '枝装', '每包', '售', '国币', '大洋', '二角', '五十', '枝装', '每罐', '售', '国币', '大洋', '五角']\n",
      "['讲求', '卫生', '为', '人生', '本性', '天理', '固然', '也', '人生', '首贵', '逐日', '大便', '通畅', '有序', '为', '天然', '所当', '如此', '也', '如若', '大便', '不利', '大', '肠阻塞', '则', '胃失', '消化', '疾病', '头痛', '肝火', '上升', '胆汁', '不', '调', '口气', '积浊', '舌现', '黄苔', '诸恙', '接踵', '而', '起', '矣', '凡', '此皆须', '服用', '韦廉士', '大', '医生', '红色', '清导丸', '以利', '大便', '俾得', '体质', '强健', '百病', '不侵', '也况', '此丸', '之', '功力', '天然', '平和', '不尚', '霸烈', '广东省', '城', '医生', '学', '研究会', '*', '生', '先生', '来示', '云弟', '患大', '便秘', '结之症', '一月', '有余', '困苦', '万状', '难以', '言喻', '服用', '韦廉士', '红色', '清导丸', '数粒', '大便', '畅达', '于是', '常为', '服用', '身体', '爽健为', '半生', '以来', '所', '未有', '也', '如', '尊处', '无从', '购买', '韦廉士', '红色', '清导丸', '祈即', '邮票', '大洋', '六角', '至', '上海', '四川', '路', '九十六', '号', '韦廉士', '医生', '药局', '原班', '邮奉', '一瓶', '可', '也']\n",
      "['香味', '馥郁', ',', '不让', '名花', '另', '有', '三', '炮台', '出售']\n",
      "['差肩', '儿女', '秀慧', '康强', '闽有', '佳音', '讃', '羡', '婴孩', '自己', '药片', '每年', '此际', '小儿', '患', '肠胃病', '者', '甚', '多', '而', '尤以', '南方', '各地', '天气', '翳', '热', '*', '颣', '充斥', '之区', '为', '最', '然而', '刘君', '强', '逹', '（', '福州', '南台', '梅亭', '山馆', '）', '家有', '差肩', '儿女', '而', '均', '秀慧康', '强者', '果何法', '以致', '之乎', '刘君云', '鄙人', '对于', '贵局', '所出', '之', '婴孩', '自己', '药片', '甚佩其', '功效', '之', '霊', '验', '药性', '之', '和平', '舍下', '儿女', '常', '因', '食物', '不节', '发生', '消化不良', '肌热', '烦燥', '肚疼', '泻泻', '等', '症', '从前', '未知', '婴孩', '药片', '之功', '时感', '求医', '之苦', '今则', '凡遇', '上述', '诸症', '投', '以此', '片均', '得速', '愈', '是', '真', '有', '儿女', '之', '家庭', '不可', '不备', '之', '圣药', '也', '婴孩', '自己', '药片', '系', '韦廉士', '之', '儿科', '専', '药', '统治', '小儿', '食积', '腹痛', '发热', '便秘', '呕吐', '泄泻', '伤风', '痰厥', '出牙', '蛔虫', '等', '症', '逺', '东', '总', '发行', '上海', '江西', '路', '六十', '号', '韦廉士', '医生', '药局', '各埠', '药房', '均', '有', '代售']\n",
      "['何以', '亚士', '北罗', '是', '妇女', '们', '的', '腻友', '？', '各国', '妇女', '力证', '亚士', '北罗', '药片', '是', '她们', '最', '需要', '的', '药物', '！', '为什么', '？', '她们', '的', '经验', '知到', '亚士', '北罗', '药片', '功能', '最', '宏大', ',', '安全', ',', '可靠', ',', '物质', '纯净', ',', '不含', '别种', '危险性', '药料', ',', '故', '妇女', '们', '最', '信用', '的', '只有', '亚士', '北罗', '药片', '！', '亚士', '北罗', '药片', '的', '功用', ':', '五分钟', '内立止', '各种', '痛症', '伤风感冒', '失眠', '一服', '即', '愈', '何以', '妇女', '们', '对于', '亚士', '北罗', '比', '丈夫', '和', '爱人', '更', '爱慕', '？', '婚前', '！', '未婚', '女子', '对', '爱人', '的', '爱情', '亲热', '得', '很', '利害', '但是', '不', '识趣', '的', '毛病', '侵害', '她', '更为', '利害', '在', '他', '月经', '来', '的', '时期', '最易', '使', '他', '感觉', '到', '最', '不', '安适', '的', '是', '头痛', '和', '肚痛', '两种', '毛病', '虽是', '他', '最', '亲爱', '的', '爱人', '也', '没法', '使', '他', '安适', '惟有', '亚士', '北罗', '药片', '可以', '立止', '他', '的', '头痛', '和', '肚痛', '回复', '他', '的', '安适', '和', '快乐', '亚士', '北罗', '药片', '才', '是', '他们', '最', '亲爱', '的', '腻友', '比', '爱人', '更', '爱慕', '故此', '妇女', '们', '对亚士', '北罗', '药片', '万分', '的', '信任', '和', '欢迎', '婚后', '！', '女子', '结了婚', '她', '的', '唯一', '责任', '就是', '养育', '儿女', '照料', '丈夫', '想尽', '两种', '责任', '她', '的', '唯一', '信赖', '就是', '亚士', '北罗', '药片', '遇着', '丈夫', '和', '儿女', '发生', '疾病', '的', '时候', '如', '头痛', '肚痛', '感冒', '伤风', '风湿', '发热', '使', '她', '的', '芳心', '最感', '不安', '用', '了', '亚士', '北罗', '药片', '丈夫', '和', '儿女', '也', '得到', '平安', '可以', '使', '她', '安乐', '无忧', '因为', '丈夫', '出外', '工作', '最易', '伤风感冒', '工作', '过劳', '神经病', '或', '头痛', '儿女', '最易', '伤风感冒', '发热', '牙痛', '肚痛', '亚士', '北罗', '药片', '可立止', '葛', '总', '病症', '退热', '愈风', '疾故', '婚后', '妇女', '们', '视亚士', '北罗', '药片', '比', '丈夫', '和', '儿女', '更', '重要', '备有', '亚士', '北罗', '药片', '便', '可', '使', '全家', '平安', '一', '五分钟', '至', '十分钟', '立止', '剧烈', '头痛', '二', '能', '使', '失眠', '者', '得', '安乐', '睡眠', '三', '能', '驱除', '各种', '痛症', '五', '能治', '牙痛', '驱除', '牙患', '六', '提神', '却病', '助消化', '七', '立止', '各种', '痛症', '无害', '于', '此', '八', '治', '腹部', '肠', '刺痛', '九', '以热', '柠檬汁', '溶和亚士', '北罗', '药片', '两三片', '饮服', '立可', '驱除', '伤风感冒', '十', '五分钟', '至', '十分钟', '立即', '退热', '十一', '无论', '在', '舟车', '家庭', '随时随地', '可以', '服用', '十二', '专治', '妇女', '忧虑', '过步', '十三', '能', '醒酒', '提神', '十四', '善治', '大肠', '热及', '退', '各种', '热症', '十五', '用亚士', '北罗', '药片', '治喉', '痛', '是', '最', '安全', '之', '法', '小盒', '三毫', '中盒', '六毫', '大盒', '一元', '半', '广州', '沙面', '天祥', '洋行', '总经理', '各大', '药房', '均', '有', '代售', 'ASPRO']\n"
     ]
    }
   ],
   "source": [
    "for document in sentences[:5]:\n",
    "    print(document)"
   ]
  },
  {
   "cell_type": "code",
   "execution_count": 34,
   "id": "7a4e4089-ddeb-4727-b803-0113e9fc09e6",
   "metadata": {},
   "outputs": [],
   "source": [
    "#自己训练词嵌入模型\n",
    "from gensim.models import Word2Vec"
   ]
  },
  {
   "cell_type": "code",
   "execution_count": 36,
   "id": "33a67512-aa90-4f54-958e-93ba89ab3176",
   "metadata": {},
   "outputs": [],
   "source": [
    "#训练词嵌入模型\n",
    "model=Word2Vec(\n",
    "    sentences,#训练语科\n",
    "    window=5,\n",
    "    vector_size=100,#自定义训练向量维度\n",
    ")"
   ]
  },
  {
   "cell_type": "code",
   "execution_count": 37,
   "id": "55e14e22-9df0-4f84-be66-df002d7dedb2",
   "metadata": {},
   "outputs": [],
   "source": [
    "#保存训练好的模型\n",
    "#model.save('Word2Vec)"
   ]
  },
  {
   "cell_type": "code",
   "execution_count": 40,
   "id": "f4916188-0884-4ee5-acab-1b8c47b27f0e",
   "metadata": {},
   "outputs": [],
   "source": [
    "word_list=model.wv.index_to_key#获取词汇表"
   ]
  },
  {
   "cell_type": "code",
   "execution_count": 42,
   "id": "2d96c3e7-17f3-4fea-97e2-39a0576ac4c0",
   "metadata": {},
   "outputs": [],
   "source": [
    "word_vectors=model.wv[word_list]#获取词向量"
   ]
  },
  {
   "cell_type": "code",
   "execution_count": 44,
   "id": "509955d3-0c6a-43d3-ab12-b46af48a21b2",
   "metadata": {},
   "outputs": [
    {
     "name": "stdout",
     "output_type": "stream",
     "text": [
      "之:[-0.57649493  0.7150624   0.06905743 -0.4993984  -0.26489764 -1.5254313\n",
      "  0.8584032   1.7244579  -0.38526914 -0.4444848  -0.12476002 -1.4127065\n",
      " -0.11300856  0.5908686   0.09787133 -0.69844085 -0.14442086 -0.48458818\n",
      "  0.09140081 -1.3131521   0.7690591   0.14580822  0.12136432 -0.08224593\n",
      " -0.00465372 -0.11447081  0.08833037 -0.63689405 -0.8224975  -0.29007292\n",
      "  0.8837264   0.10692551  0.25236496 -0.23389098 -0.29316682  1.3401986\n",
      "  0.40734115 -0.87697667 -0.54504174 -1.6559064   0.08948047 -0.4390224\n",
      " -0.2081915   0.0969647   0.73852026 -0.45098528 -0.7622246  -0.04203099\n",
      "  0.59884506  0.17184849  0.30530006 -0.6146374  -0.35101265 -0.13885573\n",
      " -0.03292069  0.3619013   0.3449562  -0.02328415 -0.5786802   0.05624469\n",
      "  0.27284232  0.2655957  -0.31090763 -0.02361314 -0.80757713  0.80831295\n",
      "  0.13627294  0.88436675 -0.677852    1.3049928  -0.6376741   0.51203454\n",
      "  0.5446014  -0.30786145  0.99338794  0.5847844   0.1873209  -0.21052536\n",
      " -0.64732236  0.03829717 -0.3323336   0.27360758 -0.68723905  1.3352431\n",
      "  0.16137907  0.40097874 -0.09417841  0.78517914  0.8052325   0.41112763\n",
      "  0.83790517  0.6567506   0.19167311 -0.00536051  1.3229449   0.767493\n",
      "  0.5770963  -1.0156116   0.6227177  -0.13598433]\n",
      "*:[-0.8122387   0.5645661   0.26928124 -0.19739608  0.08691688 -1.48666\n",
      "  0.43381312  1.4077451  -0.4020829  -0.7224651  -0.02131336 -1.3977696\n",
      " -0.34993526  0.69974774  0.21562774  0.12920022  0.2854799   0.08230863\n",
      " -0.0705649  -0.9161025   0.6796082  -0.15169108  0.47946557 -0.576466\n",
      "  0.268786    0.04353988  0.0066807  -0.24228635 -0.54596716  0.11899194\n",
      "  0.8717318  -0.00545989  0.17191347 -0.52826315 -0.13216023  0.9154721\n",
      "  0.6072984  -0.44631892  0.10462034 -0.65283775  0.5130443  -0.5410033\n",
      " -0.36386022 -0.06629458  0.4546368   0.17747615 -0.4320095  -0.11450287\n",
      "  0.53407997  0.18604335  0.5118261  -0.88002604 -0.26513687  0.24436708\n",
      " -0.05056836  0.7322239   0.53460157  0.27016687 -0.20459828  0.4719464\n",
      " -0.20277733  0.34567738 -0.4989899  -0.12288422 -0.05378478  0.75008565\n",
      "  0.4125926   0.17307761  0.06580172  1.2033342  -0.6994505  -0.19702843\n",
      "  0.4986027   0.1525591   0.5374963   0.14580421 -0.05576716 -0.34974945\n",
      " -0.070025   -0.1275876  -0.57829976  0.34641427 -0.04732573  0.4583795\n",
      "  0.27321815  0.38709417 -0.05346913  0.1527138   0.686251   -0.08618947\n",
      "  0.49880004  0.34142995  0.2122671  -0.44712874  0.49448588  0.8378147\n",
      "  0.4819813  -1.0314889   0.00953095  0.35645565]\n",
      "有:[-0.3554797   0.7202175  -0.00570619 -0.10389948 -0.18573856 -0.8526958\n",
      "  0.72922236  1.2283075  -0.37860447 -0.20016459 -0.09157756 -0.9715149\n",
      "  0.13470443  0.2816718  -0.027407   -0.80826855  0.10590808 -0.64710516\n",
      "  0.18056868 -1.0115886   0.5425686   0.09921537  0.07411578 -0.06484004\n",
      " -0.14224216 -0.22466628 -0.24852361 -0.35123068 -0.72884357 -0.3404441\n",
      "  0.789705   -0.09652164  0.10985548 -0.27370024 -0.28158468  0.75566816\n",
      "  0.12801223 -0.46268046 -0.43124887 -1.2868527   0.04479992 -0.46979898\n",
      " -0.32920966  0.21040584  0.4353801  -0.42951807 -0.39645126 -0.25496155\n",
      "  0.4314865   0.25869998  0.2233688  -0.3959726  -0.18142642 -0.10052634\n",
      " -0.3270039   0.17143674  0.22228669 -0.10741097 -0.8034943  -0.14701998\n",
      "  0.28309092  0.13736781 -0.0766793   0.16312908 -0.89726275  0.7167463\n",
      "  0.100578    0.8317639  -0.54471755  0.8723358  -0.31747484  0.50024563\n",
      "  0.5374672  -0.30644906  0.73554015  0.3136299   0.15157318  0.0949385\n",
      " -0.44672814  0.03134334 -0.41931245  0.07989096 -0.7417871   1.0840973\n",
      " -0.0276303   0.07028415 -0.00890928  0.6062385   0.6956835   0.3108847\n",
      "  0.85679     0.37289652  0.07263041  0.05430636  1.1613611   0.5157066\n",
      "  0.25385907 -0.53254145  0.30527252 -0.27552536]\n",
      "也:[-0.4579324   0.61721534  0.03536382 -0.36986548 -0.21545555 -1.1809891\n",
      "  0.7132238   1.4054977  -0.3167738  -0.35201988 -0.1170232  -1.1198092\n",
      " -0.05722637  0.43421027  0.07783621 -0.6273793  -0.09085245 -0.45026666\n",
      "  0.09400662 -1.0601007   0.6130602   0.11291712  0.09763919 -0.03686083\n",
      " -0.04683816 -0.11392145  0.02331177 -0.50636    -0.6778506  -0.23757842\n",
      "  0.74863535  0.0444488   0.18555534 -0.21623936 -0.22738929  1.0656136\n",
      "  0.3087808  -0.68113846 -0.4502879  -1.3504779   0.07812981 -0.37690642\n",
      " -0.20586583  0.10819083  0.5803933  -0.3866893  -0.5832871  -0.07573625\n",
      "  0.48819715  0.14857705  0.26077688 -0.50544566 -0.27015725 -0.13511701\n",
      " -0.07215839  0.28898454  0.27307338 -0.01960633 -0.52231437 -0.00849656\n",
      "  0.22647479  0.21084085 -0.20414318  0.00907022 -0.7112855   0.6593535\n",
      "  0.11580656  0.7567638  -0.5762309   1.0291528  -0.48028898  0.42496654\n",
      "  0.4712088  -0.2536599   0.8073067   0.44705823  0.13857736 -0.12369971\n",
      " -0.53461957  0.04556601 -0.3084294   0.20033301 -0.5984485   1.0920306\n",
      "  0.09693091  0.26961726 -0.05502588  0.6496687   0.6549041   0.32704994\n",
      "  0.7147774   0.50949967  0.14060478  0.00486711  1.105725    0.6013708\n",
      "  0.45288202 -0.7775822   0.4842294  -0.14954899]\n",
      "韦廉士:[-0.2522181   0.71727633 -0.12246303  0.11972421 -0.24882333 -0.38412535\n",
      "  0.6663437   1.0890435  -0.32409495 -0.03527658 -0.2693588  -0.6430134\n",
      "  0.19081596  0.07456241 -0.10733832 -1.014848    0.01283159 -0.734935\n",
      "  0.27393275 -0.85113645  0.41067955  0.03881967 -0.00175611  0.22667816\n",
      " -0.24560754 -0.3087172  -0.40088013 -0.30096954 -0.6690568  -0.2506272\n",
      "  0.75711983 -0.23394282  0.09942605 -0.3536756  -0.07595977  0.538321\n",
      "  0.04677738 -0.27196023 -0.323588   -1.2440915  -0.0355782  -0.41492885\n",
      " -0.5792129   0.31920904  0.18461435 -0.5526693  -0.21603233 -0.2580015\n",
      "  0.4478278   0.21640629  0.21617837 -0.37312192 -0.01129413 -0.15380271\n",
      " -0.3219263   0.10313437  0.148912   -0.25302505 -0.8664764  -0.36723047\n",
      "  0.24773587  0.14515693  0.08115942  0.09805705 -1.0292832   0.50917864\n",
      "  0.09937111  0.85853064 -0.6246681   0.61807275 -0.12341732  0.56001437\n",
      "  0.53888154 -0.377638    0.69892293  0.19308919  0.06808107  0.20808901\n",
      " -0.4237465   0.08480646 -0.4557979  -0.08420639 -0.7705967   0.86967033\n",
      " -0.303211   -0.21109723  0.08340365  0.47212598  0.469754    0.29988286\n",
      "  0.89290744  0.24433798  0.05554034  0.15488388  1.1342599   0.23986852\n",
      "  0.06812295 -0.17462777  0.21804243 -0.3657436 ]\n"
     ]
    }
   ],
   "source": [
    "#打印词汇表和对应的词向量\n",
    "for word,vector in list(zip(word_list,word_vectors))[:5]:\n",
    "    print (f'{word}:{vector}')"
   ]
  },
  {
   "cell_type": "code",
   "execution_count": 46,
   "id": "aebd6cdb-78b1-4b76-9d73-66ae0645226f",
   "metadata": {},
   "outputs": [
    {
     "name": "stdout",
     "output_type": "stream",
     "text": [
      "0.8503756\n",
      "0.8390322\n",
      "0.8437706\n",
      "0.99869585\n",
      "0.99947953\n",
      "0.998533\n"
     ]
    }
   ],
   "source": [
    "#检查词向量模型中任意两个词词向量的余弦相似度，即语义接近性\n",
    "#余弦相似度的取值介于[-1,1]之间，-1代表语义完全相反，1代表完全相同，0表示毫无关系\n",
    "print(model.wv.similarity('医生','疼痛'))\n",
    "print(model.wv.similarity('医生','神经'))\n",
    "print(model.wv.similarity('医生','伤风'))\n",
    "print(model.wv.similarity('疼痛','神经'))\n",
    "print(model.wv.similarity('疼痛','伤风'))\n",
    "print(model.wv.similarity('神经','伤风'))"
   ]
  },
  {
   "cell_type": "code",
   "execution_count": 48,
   "id": "252b6716-ba55-481b-b963-c69ce7329104",
   "metadata": {},
   "outputs": [
    {
     "data": {
      "text/plain": [
       "[('亦', 0.9996570348739624),\n",
       " ('不', 0.9996439218521118),\n",
       " ('一切', 0.9996320009231567),\n",
       " ('身体', 0.9996077418327332),\n",
       " ('所', 0.999603807926178),\n",
       " ('等', 0.9996019005775452),\n",
       " ('如', 0.9995999336242676),\n",
       " ('乃', 0.999592125415802),\n",
       " ('及', 0.9995908141136169),\n",
       " ('即', 0.9995841979980469)]"
      ]
     },
     "execution_count": 48,
     "metadata": {},
     "output_type": "execute_result"
    }
   ],
   "source": [
    "model.wv.most_similar('卫生')"
   ]
  },
  {
   "cell_type": "markdown",
   "id": "6fa07d70-72e0-426e-ba17-2eaa54439019",
   "metadata": {},
   "source": [
    "可视化词向量"
   ]
  },
  {
   "cell_type": "code",
   "execution_count": 7,
   "id": "664366ea-b100-46c8-a82f-9cd3fdca798e",
   "metadata": {},
   "outputs": [],
   "source": [
    "from matplotlib import font_manager\n",
    "\n",
    "# 列出系统所有可用字体路径\n",
    "#for font in font_manager.findSystemFonts(fontpaths=None, fontext='ttf'):\n",
    "    #print(font)"
   ]
  },
  {
   "cell_type": "code",
   "execution_count": 9,
   "id": "d9e4ec44-282f-4fc5-ab9d-7285606574be",
   "metadata": {},
   "outputs": [],
   "source": [
    "# 获取所有字体的名字和路径\n",
    "#for font in font_manager.fontManager.ttflist:\n",
    "    #print(font.name, font.fname)"
   ]
  },
  {
   "cell_type": "code",
   "execution_count": 13,
   "id": "2e136c6d-2478-4db0-b7bd-a908ab11d886",
   "metadata": {},
   "outputs": [
    {
     "name": "stdout",
     "output_type": "stream",
     "text": [
      "使用中文字体: /System/Library/AssetsV2/com_apple_MobileAsset_Font7/857d6c90171c328a4892c1492291d34e401d7f25.asset/AssetData/SimSong.ttc\n"
     ]
    },
    {
     "data": {
      "image/png": "[encoded data removed]",
      "text/plain": [
       "<Figure size 800x600 with 1 Axes>"
      ]
     },
     "metadata": {},
     "output_type": "display_data"
    }
   ],
   "source": [
    "import matplotlib.pyplot as plt\n",
    "from sklearn.decomposition import PCA\n",
    "import numpy as np\n",
    "from matplotlib.font_manager import FontProperties, findSystemFonts\n",
    "import os\n",
    "\n",
    "# 示例数据\n",
    "np.random.seed(42)\n",
    "X = np.random.rand(4, 10)  # 4个词语，每个词语用10维向量表示\n",
    "words = [\"医生\", \"疼痛\", \"伤风\", \"神经\"]\n",
    "\n",
    "# 执行PCA降维\n",
    "pca = PCA(n_components=2)\n",
    "pca_result = pca.fit_transform(X)\n",
    "\n",
    "# 查找中文字体路径（macOS适用）\n",
    "def find_chinese_font():\n",
    "    # macOS系统字体路径\n",
    "    font_paths = [\n",
    "        \"/System/Library/AssetsV2/com_apple_MobileAsset_Font7/857d6c90171c328a4892c1492291d34e401d7f25.asset/AssetData/SimSong.ttc\"\n",
    "    ]\n",
    "    \n",
    "    # 检查字体文件是否存在\n",
    "    for path in font_paths:\n",
    "        if os.path.exists(path):\n",
    "            return path\n",
    "    \n",
    "    # 如果找不到预设字体，尝试查找系统中所有中文字体\n",
    "    system_fonts = findSystemFonts()\n",
    "    for font in system_fonts:\n",
    "        if any(keyword in font.lower() for keyword in [\"hei\", \"song\", \"kai\", \"fang\"]):\n",
    "            return font\n",
    "    \n",
    "    # 如果仍未找到，返回None\n",
    "    return None\n",
    "\n",
    "# 获取中文字体路径\n",
    "font_path = find_chinese_font()\n",
    "\n",
    "if font_path:\n",
    "    # 使用找到的字体路径创建FontProperties对象\n",
    "    font_prop = FontProperties(fname=font_path)\n",
    "    print(f\"使用中文字体: {font_path}\")\n",
    "else:\n",
    "    # 如果未找到中文字体，使用默认字体\n",
    "    font_prop = FontProperties()\n",
    "    print(\"警告: 未找到中文字体，图表文字可能无法正确显示\")\n",
    "\n",
    "# 创建图表\n",
    "plt.figure(figsize=(8, 6))\n",
    "\n",
    "# 绘制散点图\n",
    "plt.scatter(pca_result[:, 0], pca_result[:, 1], s=50, color='skyblue')\n",
    "\n",
    "# 添加词语标签\n",
    "for i, word in enumerate(words):\n",
    "    plt.annotate(word, \n",
    "                 (pca_result[i, 0], pca_result[i, 1]), \n",
    "                 fontproperties=font_prop, \n",
    "                 fontsize=12,\n",
    "                 color='darkslateblue',\n",
    "                 weight='bold')\n",
    "\n",
    "# 设置标题和坐标轴标签\n",
    "plt.title('词语在二维空间的分布', fontproperties=font_prop, fontsize=14)\n",
    "plt.xlabel('主成分1', fontproperties=font_prop, fontsize=12)\n",
    "plt.ylabel('主成分2', fontproperties=font_prop, fontsize=12)\n",
    "\n",
    "# 添加网格和样式\n",
    "plt.grid(True, linestyle='--', alpha=0.7)\n",
    "plt.tight_layout()\n",
    "\n",
    "# 显示图表\n",
    "plt.show()"
   ]
  },
  {
   "cell_type": "code",
   "execution_count": 69,
   "id": "b9443d0c-c98d-40d7-ba87-7100cc0230fb",
   "metadata": {},
   "outputs": [
    {
     "name": "stderr",
     "output_type": "stream",
     "text": [
      "findfont: Generic family 'sans-serif' not found because none of the following families were found: SimHei\n",
      "findfont: Generic family 'sans-serif' not found because none of the following families were found: SimHei\n",
      "findfont: Generic family 'sans-serif' not found because none of the following families were found: SimHei\n",
      "findfont: Generic family 'sans-serif' not found because none of the following families were found: SimHei\n",
      "findfont: Generic family 'sans-serif' not found because none of the following families were found: SimHei\n",
      "findfont: Generic family 'sans-serif' not found because none of the following families were found: SimHei\n",
      "findfont: Generic family 'sans-serif' not found because none of the following families were found: SimHei\n",
      "findfont: Generic family 'sans-serif' not found because none of the following families were found: SimHei\n",
      "findfont: Generic family 'sans-serif' not found because none of the following families were found: SimHei\n",
      "findfont: Generic family 'sans-serif' not found because none of the following families were found: SimHei\n",
      "findfont: Generic family 'sans-serif' not found because none of the following families were found: SimHei\n",
      "findfont: Generic family 'sans-serif' not found because none of the following families were found: SimHei\n",
      "findfont: Generic family 'sans-serif' not found because none of the following families were found: SimHei\n",
      "findfont: Generic family 'sans-serif' not found because none of the following families were found: SimHei\n",
      "findfont: Generic family 'sans-serif' not found because none of the following families were found: SimHei\n",
      "findfont: Generic family 'sans-serif' not found because none of the following families were found: SimHei\n",
      "findfont: Generic family 'sans-serif' not found because none of the following families were found: SimHei\n",
      "findfont: Generic family 'sans-serif' not found because none of the following families were found: SimHei\n",
      "findfont: Generic family 'sans-serif' not found because none of the following families were found: SimHei\n",
      "findfont: Generic family 'sans-serif' not found because none of the following families were found: SimHei\n",
      "findfont: Generic family 'sans-serif' not found because none of the following families were found: SimHei\n",
      "findfont: Generic family 'sans-serif' not found because none of the following families were found: SimHei\n",
      "findfont: Generic family 'sans-serif' not found because none of the following families were found: SimHei\n",
      "findfont: Generic family 'sans-serif' not found because none of the following families were found: SimHei\n",
      "findfont: Generic family 'sans-serif' not found because none of the following families were found: SimHei\n",
      "findfont: Generic family 'sans-serif' not found because none of the following families were found: SimHei\n",
      "findfont: Generic family 'sans-serif' not found because none of the following families were found: SimHei\n",
      "findfont: Generic family 'sans-serif' not found because none of the following families were found: SimHei\n",
      "findfont: Generic family 'sans-serif' not found because none of the following families were found: SimHei\n",
      "findfont: Generic family 'sans-serif' not found because none of the following families were found: SimHei\n",
      "findfont: Generic family 'sans-serif' not found because none of the following families were found: SimHei\n",
      "findfont: Generic family 'sans-serif' not found because none of the following families were found: SimHei\n",
      "findfont: Generic family 'sans-serif' not found because none of the following families were found: SimHei\n",
      "findfont: Generic family 'sans-serif' not found because none of the following families were found: SimHei\n",
      "findfont: Generic family 'sans-serif' not found because none of the following families were found: SimHei\n",
      "findfont: Generic family 'sans-serif' not found because none of the following families were found: SimHei\n",
      "findfont: Generic family 'sans-serif' not found because none of the following families were found: SimHei\n",
      "findfont: Generic family 'sans-serif' not found because none of the following families were found: SimHei\n",
      "findfont: Generic family 'sans-serif' not found because none of the following families were found: SimHei\n",
      "findfont: Generic family 'sans-serif' not found because none of the following families were found: SimHei\n",
      "findfont: Generic family 'sans-serif' not found because none of the following families were found: SimHei\n",
      "findfont: Generic family 'sans-serif' not found because none of the following families were found: SimHei\n",
      "findfont: Generic family 'sans-serif' not found because none of the following families were found: SimHei\n",
      "findfont: Generic family 'sans-serif' not found because none of the following families were found: SimHei\n",
      "findfont: Generic family 'sans-serif' not found because none of the following families were found: SimHei\n",
      "findfont: Generic family 'sans-serif' not found because none of the following families were found: SimHei\n",
      "findfont: Generic family 'sans-serif' not found because none of the following families were found: SimHei\n"
     ]
    },
    {
     "data": {
      "image/png": "[encoded data removed]",
      "text/plain": [
       "<Figure size 1000x600 with 1 Axes>"
      ]
     },
     "metadata": {},
     "output_type": "display_data"
    }
   ],
   "source": [
    "#损失计算\n",
    "from gensim.models import Word2Vec\n",
    "import matplotlib.pyplot as plt\n",
    "#指定字体\n",
    "font_path = '/System/Library/Fonts/Supplemental/Songti.ttc'\n",
    "# 初始化模型（注意：不要设置 epochs，这里我们手动控制）\n",
    "model = Word2Vec(\n",
    "    vector_size=100,\n",
    "    window=5,\n",
    "    min_count=1,\n",
    "    sg=1,\n",
    "    compute_loss=True\n",
    ")  \n",
    "# 构建词汇表\n",
    "model.build_vocab(sentences)\n",
    "\n",
    "# 手动逐轮训练并记录损失\n",
    "losses = []\n",
    "previous_loss = 0\n",
    "epochs = 10\n",
    "\n",
    "for epoch in range(epochs):\n",
    "    model.train(\n",
    "        sentences,\n",
    "        total_examples=model.corpus_count,\n",
    "        epochs=1,\n",
    "        compute_loss=True\n",
    "    )\n",
    "    current_loss = model.get_latest_training_loss()\n",
    "    epoch_loss = current_loss - previous_loss\n",
    "    losses.append(epoch_loss)\n",
    "    previous_loss = current_loss\n",
    "## 绘制损失曲线\n",
    "plt.figure(figsize=(10, 6))\n",
    "plt.plot(range(1, epochs + 1), losses, 'o-',  color='#1f77b4',  # 主色：蓝色\n",
    "    linewidth=2,          # 线条宽度\n",
    "    markersize=7,         # 标记点大小\n",
    "    label='Training Loss' # 添加图例标签\n",
    ")\n",
    "from matplotlib.font_manager import FontProperties  # Import FontProperties for custom fonts\n",
    "font_prop = FontProperties(fname=font_path)  # Create a FontProperties object with the specified font path\n",
    "\n",
    "plt.title('Word2Vec训练损失曲线', fontproperties=font_prop)\n",
    "plt.xlabel('训练轮数(Epoch)', fontproperties=font_prop)\n",
    "plt.ylabel('损失值(Loss)', fontproperties=font_prop)\n",
    "plt.grid(True)\n",
    "plt.xticks(range(1, epochs + 1))\n",
    "plt.tight_layout()\n",
    "\n",
    "plt.show()"
   ]
  },
  {
   "cell_type": "code",
   "execution_count": 58,
   "id": "8e8fcd07-bd9e-4f9b-bf80-95302bb6cb07",
   "metadata": {},
   "outputs": [],
   "source": [
    "from gensim.models.callbacks import CallbackAny2Vec\n",
    "class callback(CallbackAny2Vec):\n",
    "    def _init_(self):\n",
    "        self.epoch = 0\n",
    "        self.loss_to_be_subed = 0\n",
    "    def on_epoch_end(self,model):\n",
    "        loss = model.get_latest_training_loss()\n",
    "        loss_now = loss - self.loss_to_be_subed\n",
    "        self.loss_to_be_subed = loss\n",
    "        print('loss after epoch{} :{}'.format(self.epoch, loss_now))\n",
    "        self.epoch +=1"
   ]
  },
  {
   "cell_type": "code",
   "execution_count": 61,
   "id": "18d36cb8-1072-4900-9ae6-9abe1c875c20",
   "metadata": {},
   "outputs": [],
   "source": [
    "#自己训练词嵌入模型\n",
    "from gensim.models import Word2Vec\n",
    "#训练词嵌入模型\n",
    "model = Word2Vec(\n",
    "    sentences,\n",
    "    seed = 42,\n",
    ")"
   ]
  },
  {
   "cell_type": "code",
   "execution_count": null,
   "id": "3e0dddc9-a6c7-4de3-966b-c0c51c3c9f0e",
   "metadata": {},
   "outputs": [],
   "source": []
  }
 ],
 "metadata": {
  "kernelspec": {
   "display_name": "Python 3 (ipykernel)",
   "language": "python",
   "name": "python3"
  },
  "language_info": {
   "codemirror_mode": {
    "name": "ipython",
    "version": 3
   },
   "file_extension": ".py",
   "mimetype": "text/x-python",
   "name": "python",
   "nbconvert_exporter": "python",
   "pygments_lexer": "ipython3",
   "version": "3.12.7"
  }
 },
 "nbformat": 4,
 "nbformat_minor": 5
}
